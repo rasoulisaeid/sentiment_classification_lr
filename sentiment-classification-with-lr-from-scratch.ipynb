{
 "cells": [
  {
   "cell_type": "code",
   "execution_count": 1,
   "id": "6b4c9516",
   "metadata": {
    "_cell_guid": "b1076dfc-b9ad-4769-8c92-a6c4dae69d19",
    "_uuid": "8f2839f25d086af736a60e9eeb907d3b93b6e0e5",
    "execution": {
     "iopub.execute_input": "2024-01-06T19:31:56.069628Z",
     "iopub.status.busy": "2024-01-06T19:31:56.069116Z",
     "iopub.status.idle": "2024-01-06T19:31:58.580641Z",
     "shell.execute_reply": "2024-01-06T19:31:58.579502Z"
    },
    "papermill": {
     "duration": 2.52798,
     "end_time": "2024-01-06T19:31:58.583390",
     "exception": false,
     "start_time": "2024-01-06T19:31:56.055410",
     "status": "completed"
    },
    "tags": []
   },
   "outputs": [],
   "source": [
    "import warnings\n",
    "warnings.filterwarnings(\"ignore\")\n",
    "\n",
    "import nltk\n",
    "from os import getcwd\n",
    "import re\n",
    "import string\n",
    "import numpy as np\n",
    "\n",
    "from nltk.corpus import stopwords\n",
    "from nltk.stem import PorterStemmer\n",
    "from nltk.tokenize import TweetTokenizer\n",
    "\n",
    "import pandas as pd\n",
    "from nltk.corpus import twitter_samples "
   ]
  },
  {
   "cell_type": "markdown",
   "id": "dcad18e7",
   "metadata": {
    "papermill": {
     "duration": 0.007308,
     "end_time": "2024-01-06T19:31:58.598015",
     "exception": false,
     "start_time": "2024-01-06T19:31:58.590707",
     "status": "completed"
    },
    "tags": []
   },
   "source": [
    "### Downoald data to be available"
   ]
  },
  {
   "cell_type": "code",
   "execution_count": 2,
   "id": "f1864393",
   "metadata": {
    "execution": {
     "iopub.execute_input": "2024-01-06T19:31:58.614183Z",
     "iopub.status.busy": "2024-01-06T19:31:58.613631Z",
     "iopub.status.idle": "2024-01-06T19:31:58.805694Z",
     "shell.execute_reply": "2024-01-06T19:31:58.804511Z"
    },
    "papermill": {
     "duration": 0.204427,
     "end_time": "2024-01-06T19:31:58.809600",
     "exception": false,
     "start_time": "2024-01-06T19:31:58.605173",
     "status": "completed"
    },
    "tags": []
   },
   "outputs": [
    {
     "name": "stdout",
     "output_type": "stream",
     "text": [
      "[nltk_data] Downloading package twitter_samples to\n",
      "[nltk_data]     /usr/share/nltk_data...\n",
      "[nltk_data]   Package twitter_samples is already up-to-date!\n",
      "[nltk_data] Downloading package stopwords to /usr/share/nltk_data...\n",
      "[nltk_data]   Package stopwords is already up-to-date!\n"
     ]
    },
    {
     "data": {
      "text/plain": [
       "True"
      ]
     },
     "execution_count": 2,
     "metadata": {},
     "output_type": "execute_result"
    }
   ],
   "source": [
    "nltk.download('twitter_samples')\n",
    "nltk.download('stopwords')"
   ]
  },
  {
   "cell_type": "markdown",
   "id": "a03b99d2",
   "metadata": {
    "papermill": {
     "duration": 0.007151,
     "end_time": "2024-01-06T19:31:58.824541",
     "exception": false,
     "start_time": "2024-01-06T19:31:58.817390",
     "status": "completed"
    },
    "tags": []
   },
   "source": [
    "### Defining two functions:\n",
    "1. `process_tweet`: For preprocessing the tween and removing unnecessary parts.\n",
    "2. `build_freq`: To get the list of all sentences and array of their corresponding sentiment labels and return a dict of this format: `{(word, label): count}`"
   ]
  },
  {
   "cell_type": "code",
   "execution_count": 3,
   "id": "87651fd4",
   "metadata": {
    "execution": {
     "iopub.execute_input": "2024-01-06T19:31:58.842501Z",
     "iopub.status.busy": "2024-01-06T19:31:58.840952Z",
     "iopub.status.idle": "2024-01-06T19:31:58.852114Z",
     "shell.execute_reply": "2024-01-06T19:31:58.851057Z"
    },
    "papermill": {
     "duration": 0.02268,
     "end_time": "2024-01-06T19:31:58.854488",
     "exception": false,
     "start_time": "2024-01-06T19:31:58.831808",
     "status": "completed"
    },
    "tags": []
   },
   "outputs": [],
   "source": [
    "def process_tweet(tweet):\n",
    "    \"\"\"Process tweet function.\n",
    "    Input:\n",
    "        tweet: a string containing a tweet\n",
    "    Output:\n",
    "        tweets_clean: a list of words containing the processed tweet\n",
    "\n",
    "    \"\"\"\n",
    "    stemmer = PorterStemmer()\n",
    "    stopwords_english = stopwords.words('english')\n",
    "    \n",
    "    # remove stock market tickers like $GE\n",
    "    tweet = re.sub(r'\\$\\w*', '', tweet)\n",
    "    \n",
    "    # remove old style retweet text \"RT\"\n",
    "    tweet = re.sub(r'^RT[\\s]+', '', tweet)\n",
    "    \n",
    "    # remove hyperlinks\n",
    "    tweet = re.sub(r'https?:\\/\\/.*[\\r\\n]*', '', tweet)\n",
    "    \n",
    "    # remove hashtags\n",
    "    # only removing the hash # sign from the word\n",
    "    tweet = re.sub(r'#', '', tweet)\n",
    "    \n",
    "    # tokenize tweets\n",
    "    tokenizer = TweetTokenizer(preserve_case=False, strip_handles=True, reduce_len=True)\n",
    "    tweet_tokens = tokenizer.tokenize(tweet)\n",
    "\n",
    "    tweets_clean = []\n",
    "    for word in tweet_tokens:\n",
    "        if (word not in stopwords_english and  # remove stopwords\n",
    "                word not in string.punctuation):  # remove punctuation\n",
    "            \n",
    "            # tweets_clean.append(word)\n",
    "            stem_word = stemmer.stem(word)  # stemming word\n",
    "            tweets_clean.append(stem_word)\n",
    "\n",
    "    return tweets_clean\n",
    "\n",
    "\n",
    "def build_freqs(tweets, ys):\n",
    "    \"\"\"Build frequencies.\n",
    "    Input:\n",
    "        tweets: a list of tweets\n",
    "        ys: an m x 1 array with the sentiment label of each tweet\n",
    "            (either 0 or 1)\n",
    "    Output:\n",
    "        freqs: a dictionary mapping each (word, sentiment) pair to its\n",
    "        frequency\n",
    "    \"\"\"\n",
    "    # Convert np array to list since zip needs an iterable.\n",
    "    # The squeeze is necessary or the list ends up with one element.\n",
    "    # Also note that this is just a NOP if ys is already a list.\n",
    "    yslist = np.squeeze(ys).tolist()\n",
    "\n",
    "    # Start with an empty dictionary and populate it by looping over all tweets\n",
    "    # and over all processed words in each tweet.\n",
    "    freqs = {}\n",
    "    for y, tweet in zip(yslist, tweets):\n",
    "        for word in process_tweet(tweet):\n",
    "            pair = (word, y)\n",
    "            if pair in freqs:\n",
    "                freqs[pair] += 1\n",
    "            else:\n",
    "                freqs[pair] = 1\n",
    "\n",
    "    return freqs"
   ]
  },
  {
   "cell_type": "code",
   "execution_count": 4,
   "id": "c8f0c4d7",
   "metadata": {
    "execution": {
     "iopub.execute_input": "2024-01-06T19:31:58.872155Z",
     "iopub.status.busy": "2024-01-06T19:31:58.871538Z",
     "iopub.status.idle": "2024-01-06T19:31:58.875776Z",
     "shell.execute_reply": "2024-01-06T19:31:58.874703Z"
    },
    "papermill": {
     "duration": 0.016174,
     "end_time": "2024-01-06T19:31:58.878113",
     "exception": false,
     "start_time": "2024-01-06T19:31:58.861939",
     "status": "completed"
    },
    "tags": []
   },
   "outputs": [],
   "source": [
    "filePath = f\"{getcwd()}/../tmp2/\"\n",
    "nltk.data.path.append(filePath)"
   ]
  },
  {
   "cell_type": "code",
   "execution_count": 5,
   "id": "efb37b79",
   "metadata": {
    "execution": {
     "iopub.execute_input": "2024-01-06T19:31:58.895006Z",
     "iopub.status.busy": "2024-01-06T19:31:58.894639Z",
     "iopub.status.idle": "2024-01-06T19:31:59.726874Z",
     "shell.execute_reply": "2024-01-06T19:31:59.725579Z"
    },
    "papermill": {
     "duration": 0.843872,
     "end_time": "2024-01-06T19:31:59.729710",
     "exception": false,
     "start_time": "2024-01-06T19:31:58.885838",
     "status": "completed"
    },
    "tags": []
   },
   "outputs": [],
   "source": [
    "# select the set of positive and negative tweets\n",
    "all_positive_tweets = twitter_samples.strings('positive_tweets.json')\n",
    "all_negative_tweets = twitter_samples.strings('negative_tweets.json')"
   ]
  },
  {
   "cell_type": "markdown",
   "id": "548e918b",
   "metadata": {
    "papermill": {
     "duration": 0.007105,
     "end_time": "2024-01-06T19:31:59.744315",
     "exception": false,
     "start_time": "2024-01-06T19:31:59.737210",
     "status": "completed"
    },
    "tags": []
   },
   "source": [
    "### Splitting the data into train and test"
   ]
  },
  {
   "cell_type": "code",
   "execution_count": 6,
   "id": "63fdb4d8",
   "metadata": {
    "execution": {
     "iopub.execute_input": "2024-01-06T19:31:59.760648Z",
     "iopub.status.busy": "2024-01-06T19:31:59.759942Z",
     "iopub.status.idle": "2024-01-06T19:31:59.766859Z",
     "shell.execute_reply": "2024-01-06T19:31:59.765696Z"
    },
    "papermill": {
     "duration": 0.017771,
     "end_time": "2024-01-06T19:31:59.769296",
     "exception": false,
     "start_time": "2024-01-06T19:31:59.751525",
     "status": "completed"
    },
    "tags": []
   },
   "outputs": [],
   "source": [
    "# split the data into two pieces, one for training and one for testing (validation set) \n",
    "test_pos = all_positive_tweets[4000:]\n",
    "train_pos = all_positive_tweets[:4000]\n",
    "test_neg = all_negative_tweets[4000:]\n",
    "train_neg = all_negative_tweets[:4000]\n",
    "\n",
    "train_x = train_pos + train_neg \n",
    "test_x = test_pos + test_neg"
   ]
  },
  {
   "cell_type": "code",
   "execution_count": 7,
   "id": "de96e6eb",
   "metadata": {
    "execution": {
     "iopub.execute_input": "2024-01-06T19:31:59.786060Z",
     "iopub.status.busy": "2024-01-06T19:31:59.785613Z",
     "iopub.status.idle": "2024-01-06T19:31:59.793793Z",
     "shell.execute_reply": "2024-01-06T19:31:59.792402Z"
    },
    "papermill": {
     "duration": 0.019926,
     "end_time": "2024-01-06T19:31:59.796683",
     "exception": false,
     "start_time": "2024-01-06T19:31:59.776757",
     "status": "completed"
    },
    "tags": []
   },
   "outputs": [
    {
     "name": "stdout",
     "output_type": "stream",
     "text": [
      "train_y.shape = (8000, 1)\n",
      "test_y.shape = (2000, 1)\n"
     ]
    }
   ],
   "source": [
    "# combine positive and negative labels\n",
    "train_y = np.append(np.ones((len(train_pos), 1)), np.zeros((len(train_neg), 1)), axis=0)\n",
    "test_y = np.append(np.ones((len(test_pos), 1)), np.zeros((len(test_neg), 1)), axis=0)\n",
    "\n",
    "# Print the shape train and test sets\n",
    "print(\"train_y.shape = \" + str(train_y.shape))\n",
    "print(\"test_y.shape = \" + str(test_y.shape))"
   ]
  },
  {
   "cell_type": "markdown",
   "id": "aafdbfd2",
   "metadata": {
    "papermill": {
     "duration": 0.007954,
     "end_time": "2024-01-06T19:31:59.812252",
     "exception": false,
     "start_time": "2024-01-06T19:31:59.804298",
     "status": "completed"
    },
    "tags": []
   },
   "source": [
    "### Building word frequencies"
   ]
  },
  {
   "cell_type": "code",
   "execution_count": 8,
   "id": "05635951",
   "metadata": {
    "execution": {
     "iopub.execute_input": "2024-01-06T19:31:59.830022Z",
     "iopub.status.busy": "2024-01-06T19:31:59.829643Z",
     "iopub.status.idle": "2024-01-06T19:32:03.370484Z",
     "shell.execute_reply": "2024-01-06T19:32:03.369334Z"
    },
    "papermill": {
     "duration": 3.552518,
     "end_time": "2024-01-06T19:32:03.372755",
     "exception": false,
     "start_time": "2024-01-06T19:31:59.820237",
     "status": "completed"
    },
    "tags": []
   },
   "outputs": [
    {
     "name": "stdout",
     "output_type": "stream",
     "text": [
      "type(freqs) = <class 'dict'>\n",
      "len(freqs) = 11346\n"
     ]
    }
   ],
   "source": [
    "# create frequency dictionary\n",
    "freqs = build_freqs(train_x, train_y)\n",
    "\n",
    "# check the output\n",
    "print(\"type(freqs) = \" + str(type(freqs)))\n",
    "print(\"len(freqs) = \" + str(len(freqs.keys())))"
   ]
  },
  {
   "cell_type": "code",
   "execution_count": 9,
   "id": "dff8ea4b",
   "metadata": {
    "execution": {
     "iopub.execute_input": "2024-01-06T19:32:03.390518Z",
     "iopub.status.busy": "2024-01-06T19:32:03.389596Z",
     "iopub.status.idle": "2024-01-06T19:32:03.396692Z",
     "shell.execute_reply": "2024-01-06T19:32:03.395533Z"
    },
    "papermill": {
     "duration": 0.018378,
     "end_time": "2024-01-06T19:32:03.399026",
     "exception": false,
     "start_time": "2024-01-06T19:32:03.380648",
     "status": "completed"
    },
    "tags": []
   },
   "outputs": [
    {
     "name": "stdout",
     "output_type": "stream",
     "text": [
      "This is an example of a positive tweet: \n",
      " #FollowFriday @France_Inte @PKuchly57 @Milipol_Paris for being top engaged members in my community this week :)\n",
      "\n",
      "This is an example of the processed version of the tweet: \n",
      " ['followfriday', 'top', 'engag', 'member', 'commun', 'week', ':)']\n"
     ]
    }
   ],
   "source": [
    "# test the function below\n",
    "print('This is an example of a positive tweet: \\n', train_x[0])\n",
    "print('\\nThis is an example of the processed version of the tweet: \\n', process_tweet(train_x[0]))"
   ]
  },
  {
   "cell_type": "markdown",
   "id": "984b7cd9",
   "metadata": {
    "papermill": {
     "duration": 0.007316,
     "end_time": "2024-01-06T19:32:03.413937",
     "exception": false,
     "start_time": "2024-01-06T19:32:03.406621",
     "status": "completed"
    },
    "tags": []
   },
   "source": [
    "### Logistic Regression"
   ]
  },
  {
   "cell_type": "code",
   "execution_count": 10,
   "id": "f9b5f469",
   "metadata": {
    "execution": {
     "iopub.execute_input": "2024-01-06T19:32:03.431280Z",
     "iopub.status.busy": "2024-01-06T19:32:03.430865Z",
     "iopub.status.idle": "2024-01-06T19:32:03.435816Z",
     "shell.execute_reply": "2024-01-06T19:32:03.434965Z"
    },
    "papermill": {
     "duration": 0.016194,
     "end_time": "2024-01-06T19:32:03.437689",
     "exception": false,
     "start_time": "2024-01-06T19:32:03.421495",
     "status": "completed"
    },
    "tags": []
   },
   "outputs": [],
   "source": [
    "def sigmoid(z): \n",
    "    '''\n",
    "    Input:\n",
    "        z: is the input (can be a scalar or an array)\n",
    "    Output:\n",
    "        h: the sigmoid of z\n",
    "    '''\n",
    "    \n",
    "    h = (1/(1 + np.exp(-z)))\n",
    "    \n",
    "    return h"
   ]
  },
  {
   "cell_type": "code",
   "execution_count": 11,
   "id": "ffaa370d",
   "metadata": {
    "execution": {
     "iopub.execute_input": "2024-01-06T19:32:03.454959Z",
     "iopub.status.busy": "2024-01-06T19:32:03.453982Z",
     "iopub.status.idle": "2024-01-06T19:32:03.460782Z",
     "shell.execute_reply": "2024-01-06T19:32:03.459628Z"
    },
    "papermill": {
     "duration": 0.01742,
     "end_time": "2024-01-06T19:32:03.462825",
     "exception": false,
     "start_time": "2024-01-06T19:32:03.445405",
     "status": "completed"
    },
    "tags": []
   },
   "outputs": [
    {
     "name": "stdout",
     "output_type": "stream",
     "text": [
      "SUCCESS!\n",
      "CORRECT!\n"
     ]
    }
   ],
   "source": [
    "# Testing your function \n",
    "if (sigmoid(0) == 0.5):\n",
    "    print('SUCCESS!')\n",
    "else:\n",
    "    print('Oops!')\n",
    "\n",
    "if (sigmoid(4.92) == 0.9927537604041685):\n",
    "    print('CORRECT!')\n",
    "else:\n",
    "    print('Oops again!')"
   ]
  },
  {
   "cell_type": "markdown",
   "id": "ca39f270",
   "metadata": {
    "papermill": {
     "duration": 0.007652,
     "end_time": "2024-01-06T19:32:03.478564",
     "exception": false,
     "start_time": "2024-01-06T19:32:03.470912",
     "status": "completed"
    },
    "tags": []
   },
   "source": [
    "### Gradient Descent"
   ]
  },
  {
   "cell_type": "code",
   "execution_count": 12,
   "id": "f421b5c7",
   "metadata": {
    "execution": {
     "iopub.execute_input": "2024-01-06T19:32:03.496367Z",
     "iopub.status.busy": "2024-01-06T19:32:03.495780Z",
     "iopub.status.idle": "2024-01-06T19:32:03.502730Z",
     "shell.execute_reply": "2024-01-06T19:32:03.501662Z"
    },
    "papermill": {
     "duration": 0.018655,
     "end_time": "2024-01-06T19:32:03.504905",
     "exception": false,
     "start_time": "2024-01-06T19:32:03.486250",
     "status": "completed"
    },
    "tags": []
   },
   "outputs": [],
   "source": [
    "def gradient_descent(X, y, theta, lr, epochs):\n",
    "    m = y.shape[0]\n",
    "    print(X.shape, theta.shape, y.shape)\n",
    "    for i in range(epochs):\n",
    "        z = np.dot(X, theta)\n",
    "        y_hat = sigmoid(z)\n",
    "        cost = - (1/m) * np.sum(np.dot(y.T, np.log(y_hat) + np.dot((1 - y).T, np.log(1 - y_hat))))\n",
    "        theta = theta - (lr/m) * np.dot(X.T, (y_hat - y))\n",
    "    return theta, float(cost)"
   ]
  },
  {
   "cell_type": "code",
   "execution_count": 13,
   "id": "996abbcf",
   "metadata": {
    "execution": {
     "iopub.execute_input": "2024-01-06T19:32:03.522133Z",
     "iopub.status.busy": "2024-01-06T19:32:03.521738Z",
     "iopub.status.idle": "2024-01-06T19:32:03.553003Z",
     "shell.execute_reply": "2024-01-06T19:32:03.551425Z"
    },
    "papermill": {
     "duration": 0.042957,
     "end_time": "2024-01-06T19:32:03.555612",
     "exception": false,
     "start_time": "2024-01-06T19:32:03.512655",
     "status": "completed"
    },
    "tags": []
   },
   "outputs": [
    {
     "name": "stdout",
     "output_type": "stream",
     "text": [
      "(10, 3) (3, 1) (10, 1)\n",
      "The cost after training is 2.29483927.\n",
      "The resulting vector of weights is [4.1e-07, 0.00035658, 7.309e-05]\n"
     ]
    }
   ],
   "source": [
    "# Check the function\n",
    "# Construct a synthetic test case using numpy PRNG functions\n",
    "np.random.seed(1)\n",
    "# X input is 10 x 3 with ones for the bias terms\n",
    "tmp_X = np.append(np.ones((10, 1)), np.random.rand(10, 2) * 2000, axis=1)\n",
    "# Y Labels are 10 x 1\n",
    "tmp_Y = (np.random.rand(10, 1) > 0.35).astype(float)\n",
    "\n",
    "# Apply gradient descent\n",
    "tmp_theta, tmp_cost = gradient_descent(tmp_X, tmp_Y, np.zeros((3, 1)), 1e-8, 700)\n",
    "print(f\"The cost after training is {tmp_cost:.8f}.\")\n",
    "print(f\"The resulting vector of weights is {[round(t, 8) for t in np.squeeze(tmp_theta)]}\")"
   ]
  },
  {
   "cell_type": "markdown",
   "id": "4b0e5132",
   "metadata": {
    "papermill": {
     "duration": 0.007522,
     "end_time": "2024-01-06T19:32:03.570820",
     "exception": false,
     "start_time": "2024-01-06T19:32:03.563298",
     "status": "completed"
    },
    "tags": []
   },
   "source": [
    "### Extract tweet freatures"
   ]
  },
  {
   "cell_type": "code",
   "execution_count": 14,
   "id": "b738b9ab",
   "metadata": {
    "execution": {
     "iopub.execute_input": "2024-01-06T19:32:03.588545Z",
     "iopub.status.busy": "2024-01-06T19:32:03.587404Z",
     "iopub.status.idle": "2024-01-06T19:32:03.594925Z",
     "shell.execute_reply": "2024-01-06T19:32:03.593841Z"
    },
    "papermill": {
     "duration": 0.018733,
     "end_time": "2024-01-06T19:32:03.597310",
     "exception": false,
     "start_time": "2024-01-06T19:32:03.578577",
     "status": "completed"
    },
    "tags": []
   },
   "outputs": [],
   "source": [
    "def extract_features(tweet, freqs):\n",
    "    all = process_tweet(tweet)\n",
    "    \n",
    "    x = np.zeros((1, 3))\n",
    "    # bias\n",
    "    x[0, 0] = 1\n",
    "    \n",
    "    # feature 1: positive summation\n",
    "    x[0, 1] = sum([freqs.get((w, 1), 0) for w in all])\n",
    "    \n",
    "    # feature 2: negative summation\n",
    "    x[0, 2] = sum([freqs.get((w, 0), 0) for w in all])\n",
    "    \n",
    "    assert(x.shape == (1, 3))\n",
    "    \n",
    "    return x\n",
    "    "
   ]
  },
  {
   "cell_type": "code",
   "execution_count": 15,
   "id": "5b55e83e",
   "metadata": {
    "execution": {
     "iopub.execute_input": "2024-01-06T19:32:03.615268Z",
     "iopub.status.busy": "2024-01-06T19:32:03.614801Z",
     "iopub.status.idle": "2024-01-06T19:32:03.623595Z",
     "shell.execute_reply": "2024-01-06T19:32:03.622518Z"
    },
    "papermill": {
     "duration": 0.020574,
     "end_time": "2024-01-06T19:32:03.625804",
     "exception": false,
     "start_time": "2024-01-06T19:32:03.605230",
     "status": "completed"
    },
    "tags": []
   },
   "outputs": [
    {
     "data": {
      "text/plain": [
       "array([[1.00e+00, 3.02e+03, 6.10e+01]])"
      ]
     },
     "execution_count": 15,
     "metadata": {},
     "output_type": "execute_result"
    }
   ],
   "source": [
    "extract_features(train_x[0], freqs)"
   ]
  },
  {
   "cell_type": "markdown",
   "id": "a984ac5e",
   "metadata": {
    "papermill": {
     "duration": 0.007554,
     "end_time": "2024-01-06T19:32:03.641069",
     "exception": false,
     "start_time": "2024-01-06T19:32:03.633515",
     "status": "completed"
    },
    "tags": []
   },
   "source": [
    "### Train the Model"
   ]
  },
  {
   "cell_type": "code",
   "execution_count": 16,
   "id": "d7a412bc",
   "metadata": {
    "execution": {
     "iopub.execute_input": "2024-01-06T19:32:03.658414Z",
     "iopub.status.busy": "2024-01-06T19:32:03.657810Z",
     "iopub.status.idle": "2024-01-06T19:32:08.249762Z",
     "shell.execute_reply": "2024-01-06T19:32:08.248532Z"
    },
    "papermill": {
     "duration": 4.604347,
     "end_time": "2024-01-06T19:32:08.253112",
     "exception": false,
     "start_time": "2024-01-06T19:32:03.648765",
     "status": "completed"
    },
    "tags": []
   },
   "outputs": [
    {
     "name": "stdout",
     "output_type": "stream",
     "text": [
      "(8000, 3) (3, 1) (8000, 1)\n",
      "The cost after training is 345.48699932.\n",
      "The resulting vector of weights is [7e-08, 0.0005239, -0.00055517]\n"
     ]
    }
   ],
   "source": [
    "# collect the features 'x' and stack them into a matrix 'X'\n",
    "X = np.zeros((len(train_x), 3))\n",
    "for i in range(len(train_x)):\n",
    "    X[i, :]= extract_features(train_x[i], freqs)\n",
    "\n",
    "# training labels corresponding to X\n",
    "Y = train_y\n",
    "\n",
    "# Apply gradient descent\n",
    "theta, cost = gradient_descent(X, Y, np.zeros((3, 1)), 1e-9, 1500)\n",
    "print(f\"The cost after training is {cost:.8f}.\")\n",
    "print(f\"The resulting vector of weights is {[round(t, 8) for t in np.squeeze(theta)]}\")"
   ]
  },
  {
   "cell_type": "markdown",
   "id": "28504d6d",
   "metadata": {
    "papermill": {
     "duration": 0.012328,
     "end_time": "2024-01-06T19:32:08.279668",
     "exception": false,
     "start_time": "2024-01-06T19:32:08.267340",
     "status": "completed"
    },
    "tags": []
   },
   "source": [
    "### Predict on Test "
   ]
  },
  {
   "cell_type": "code",
   "execution_count": 17,
   "id": "136bc85c",
   "metadata": {
    "execution": {
     "iopub.execute_input": "2024-01-06T19:32:08.312582Z",
     "iopub.status.busy": "2024-01-06T19:32:08.311997Z",
     "iopub.status.idle": "2024-01-06T19:32:08.321709Z",
     "shell.execute_reply": "2024-01-06T19:32:08.320478Z"
    },
    "papermill": {
     "duration": 0.029637,
     "end_time": "2024-01-06T19:32:08.324898",
     "exception": false,
     "start_time": "2024-01-06T19:32:08.295261",
     "status": "completed"
    },
    "tags": []
   },
   "outputs": [],
   "source": [
    "def predict_tweet(tweet, freqs, theta):\n",
    "    all = process_tweet(tweet)\n",
    "    \n",
    "    x = np.zeros((1, 3))\n",
    "    x[0, 0] = 1\n",
    "    x[0, 1] = sum([freqs.get((w, 1), 0) for w in all])\n",
    "    x[0, 2] = sum([freqs.get((w, 0), 0) for w in all])\n",
    "    assert(x.shape == (1, 3))\n",
    "    \n",
    "    z = np.dot(x, theta)\n",
    "    y_hat = sigmoid(z)\n",
    "    \n",
    "    return int(y_hat > 0.5)"
   ]
  },
  {
   "cell_type": "code",
   "execution_count": 18,
   "id": "7a849ae9",
   "metadata": {
    "execution": {
     "iopub.execute_input": "2024-01-06T19:32:08.355045Z",
     "iopub.status.busy": "2024-01-06T19:32:08.354477Z",
     "iopub.status.idle": "2024-01-06T19:32:08.372919Z",
     "shell.execute_reply": "2024-01-06T19:32:08.371814Z"
    },
    "papermill": {
     "duration": 0.036272,
     "end_time": "2024-01-06T19:32:08.375696",
     "exception": false,
     "start_time": "2024-01-06T19:32:08.339424",
     "status": "completed"
    },
    "tags": []
   },
   "outputs": [
    {
     "name": "stdout",
     "output_type": "stream",
     "text": [
      "@Garfyville In Bath? :) Even we don’t have wheelie bins, nowhere to put them @paulmutton\n",
      "Predicted: 1 | True: 1.0\n",
      "\n",
      "I'm so frustrated with my planks. The times are super inconsistent, and I have no idea what I'm doing wrong. :(\n",
      "Predicted: 0 | True: 0.0\n",
      "\n",
      "@Glanny_ @soL_Lyah @_wattie I told him to suicide and kill both of you, but you ran away forever :(\n",
      "Predicted: 0 | True: 0.0\n",
      "\n",
      "why won't justin come to Scotland :(\n",
      "Predicted: 0 | True: 0.0\n",
      "\n",
      "I've run out of bread and I don't feel well enough to make any. :(\n",
      "Predicted: 0 | True: 0.0\n",
      "\n",
      "I miss those convo's so bad damn :(\n",
      "Predicted: 0 | True: 0.0\n",
      "\n",
      "@deano042 @RealKrisTravis WHAT :(\n",
      "Predicted: 0 | True: 0.0\n",
      "\n",
      "@anime_narutoINA thank you min :)\n",
      "Predicted: 1 | True: 1.0\n",
      "\n",
      "@namcew make use of the masquerade mask!!!! Lol #zorroreturms :-)\n",
      "Predicted: 1 | True: 1.0\n",
      "\n",
      "@KylieDeVille Happy Birthday!! Enjoy your vacation!:)\n",
      "Predicted: 1 | True: 1.0\n",
      "\n"
     ]
    }
   ],
   "source": [
    "random_idx = np.random.randint(0, len(test_x), size=10)\n",
    "for j in random_idx:\n",
    "    print(test_x[j])\n",
    "    pred = predict_tweet(test_x[j], freqs, theta)\n",
    "    print(f\"Predicted: {pred} | True: {test_y[j][0]}\\n\")"
   ]
  },
  {
   "cell_type": "markdown",
   "id": "29434309",
   "metadata": {
    "papermill": {
     "duration": 0.007807,
     "end_time": "2024-01-06T19:32:08.391863",
     "exception": false,
     "start_time": "2024-01-06T19:32:08.384056",
     "status": "completed"
    },
    "tags": []
   },
   "source": [
    "### Evaluation"
   ]
  },
  {
   "cell_type": "code",
   "execution_count": 19,
   "id": "50e8a82d",
   "metadata": {
    "execution": {
     "iopub.execute_input": "2024-01-06T19:32:08.410124Z",
     "iopub.status.busy": "2024-01-06T19:32:08.409399Z",
     "iopub.status.idle": "2024-01-06T19:32:09.359308Z",
     "shell.execute_reply": "2024-01-06T19:32:09.358117Z"
    },
    "papermill": {
     "duration": 0.962069,
     "end_time": "2024-01-06T19:32:09.361920",
     "exception": false,
     "start_time": "2024-01-06T19:32:08.399851",
     "status": "completed"
    },
    "tags": []
   },
   "outputs": [],
   "source": [
    "X_test = np.zeros((len(test_x), 3))\n",
    "for i in range(len(test_x)):\n",
    "    X_test[i, :]= extract_features(test_x[i], freqs)"
   ]
  },
  {
   "cell_type": "code",
   "execution_count": 20,
   "id": "516d68b6",
   "metadata": {
    "execution": {
     "iopub.execute_input": "2024-01-06T19:32:09.381950Z",
     "iopub.status.busy": "2024-01-06T19:32:09.381334Z",
     "iopub.status.idle": "2024-01-06T19:32:09.386409Z",
     "shell.execute_reply": "2024-01-06T19:32:09.385639Z"
    },
    "papermill": {
     "duration": 0.017824,
     "end_time": "2024-01-06T19:32:09.388581",
     "exception": false,
     "start_time": "2024-01-06T19:32:09.370757",
     "status": "completed"
    },
    "tags": []
   },
   "outputs": [],
   "source": [
    "def model(X, theta):\n",
    "    z = np.dot(X, theta)\n",
    "    y_hat = sigmoid(z)\n",
    "    \n",
    "    return y_hat"
   ]
  },
  {
   "cell_type": "code",
   "execution_count": 21,
   "id": "16b9b512",
   "metadata": {
    "execution": {
     "iopub.execute_input": "2024-01-06T19:32:09.407387Z",
     "iopub.status.busy": "2024-01-06T19:32:09.406711Z",
     "iopub.status.idle": "2024-01-06T19:32:09.413507Z",
     "shell.execute_reply": "2024-01-06T19:32:09.412317Z"
    },
    "papermill": {
     "duration": 0.019195,
     "end_time": "2024-01-06T19:32:09.416003",
     "exception": false,
     "start_time": "2024-01-06T19:32:09.396808",
     "status": "completed"
    },
    "tags": []
   },
   "outputs": [
    {
     "name": "stdout",
     "output_type": "stream",
     "text": [
      "Test Accuracy: 0.995\n"
     ]
    }
   ],
   "source": [
    "y_pred_proba = model(X_test, theta)\n",
    "y_pred = (y_pred_proba > 0.5)\n",
    "\n",
    "print(f\"Test Accuracy: {(y_pred == test_y).mean()}\")"
   ]
  },
  {
   "cell_type": "markdown",
   "id": "619e92bf",
   "metadata": {
    "papermill": {
     "duration": 0.069141,
     "end_time": "2024-01-06T19:32:09.493403",
     "exception": false,
     "start_time": "2024-01-06T19:32:09.424262",
     "status": "completed"
    },
    "tags": []
   },
   "source": [
    "### My Example"
   ]
  },
  {
   "cell_type": "code",
   "execution_count": 22,
   "id": "1a7948f0",
   "metadata": {
    "execution": {
     "iopub.execute_input": "2024-01-06T19:32:09.511638Z",
     "iopub.status.busy": "2024-01-06T19:32:09.511283Z",
     "iopub.status.idle": "2024-01-06T19:32:09.518803Z",
     "shell.execute_reply": "2024-01-06T19:32:09.517741Z"
    },
    "papermill": {
     "duration": 0.019327,
     "end_time": "2024-01-06T19:32:09.520927",
     "exception": false,
     "start_time": "2024-01-06T19:32:09.501600",
     "status": "completed"
    },
    "tags": []
   },
   "outputs": [
    {
     "data": {
      "text/plain": [
       "1"
      ]
     },
     "execution_count": 22,
     "metadata": {},
     "output_type": "execute_result"
    }
   ],
   "source": [
    "predict_tweet(\"@saeid I think today was good for me, beause I've earned 100$.\", freqs, theta)"
   ]
  }
 ],
 "metadata": {
  "kaggle": {
   "accelerator": "none",
   "dataSources": [],
   "dockerImageVersionId": 30626,
   "isGpuEnabled": false,
   "isInternetEnabled": true,
   "language": "python",
   "sourceType": "notebook"
  },
  "kernelspec": {
   "display_name": "Python 3",
   "language": "python",
   "name": "python3"
  },
  "language_info": {
   "codemirror_mode": {
    "name": "ipython",
    "version": 3
   },
   "file_extension": ".py",
   "mimetype": "text/x-python",
   "name": "python",
   "nbconvert_exporter": "python",
   "pygments_lexer": "ipython3",
   "version": "3.10.12"
  },
  "papermill": {
   "default_parameters": {},
   "duration": 17.356905,
   "end_time": "2024-01-06T19:32:10.151101",
   "environment_variables": {},
   "exception": null,
   "input_path": "__notebook__.ipynb",
   "output_path": "__notebook__.ipynb",
   "parameters": {},
   "start_time": "2024-01-06T19:31:52.794196",
   "version": "2.4.0"
  }
 },
 "nbformat": 4,
 "nbformat_minor": 5
}
