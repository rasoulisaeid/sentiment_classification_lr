{
 "cells": [
  {
   "cell_type": "code",
   "execution_count": 1,
   "id": "e38392f7",
   "metadata": {
    "_cell_guid": "b1076dfc-b9ad-4769-8c92-a6c4dae69d19",
    "_uuid": "8f2839f25d086af736a60e9eeb907d3b93b6e0e5",
    "execution": {
     "iopub.execute_input": "2024-01-06T19:35:44.594671Z",
     "iopub.status.busy": "2024-01-06T19:35:44.594233Z",
     "iopub.status.idle": "2024-01-06T19:35:46.872893Z",
     "shell.execute_reply": "2024-01-06T19:35:46.871781Z"
    },
    "papermill": {
     "duration": 2.294464,
     "end_time": "2024-01-06T19:35:46.875945",
     "exception": false,
     "start_time": "2024-01-06T19:35:44.581481",
     "status": "completed"
    },
    "tags": []
   },
   "outputs": [],
   "source": [
    "import warnings\n",
    "warnings.filterwarnings(\"ignore\")\n",
    "\n",
    "import nltk\n",
    "from os import getcwd\n",
    "import re\n",
    "import string\n",
    "import numpy as np\n",
    "\n",
    "from nltk.corpus import stopwords\n",
    "from nltk.stem import PorterStemmer\n",
    "from nltk.tokenize import TweetTokenizer\n",
    "\n",
    "import pandas as pd\n",
    "from nltk.corpus import twitter_samples "
   ]
  },
  {
   "cell_type": "markdown",
   "id": "21cdab41",
   "metadata": {
    "papermill": {
     "duration": 0.010038,
     "end_time": "2024-01-06T19:35:46.896182",
     "exception": false,
     "start_time": "2024-01-06T19:35:46.886144",
     "status": "completed"
    },
    "tags": []
   },
   "source": [
    "### Downoald data to be available"
   ]
  },
  {
   "cell_type": "code",
   "execution_count": 2,
   "id": "47c5bd7d",
   "metadata": {
    "execution": {
     "iopub.execute_input": "2024-01-06T19:35:46.918270Z",
     "iopub.status.busy": "2024-01-06T19:35:46.917677Z",
     "iopub.status.idle": "2024-01-06T19:35:47.246245Z",
     "shell.execute_reply": "2024-01-06T19:35:47.244825Z"
    },
    "papermill": {
     "duration": 0.342819,
     "end_time": "2024-01-06T19:35:47.248921",
     "exception": false,
     "start_time": "2024-01-06T19:35:46.906102",
     "status": "completed"
    },
    "tags": []
   },
   "outputs": [
    {
     "name": "stdout",
     "output_type": "stream",
     "text": [
      "[nltk_data] Downloading package twitter_samples to\n",
      "[nltk_data]     /usr/share/nltk_data...\n",
      "[nltk_data]   Package twitter_samples is already up-to-date!\n",
      "[nltk_data] Downloading package stopwords to /usr/share/nltk_data...\n",
      "[nltk_data]   Package stopwords is already up-to-date!\n"
     ]
    },
    {
     "data": {
      "text/plain": [
       "True"
      ]
     },
     "execution_count": 2,
     "metadata": {},
     "output_type": "execute_result"
    }
   ],
   "source": [
    "nltk.download('twitter_samples')\n",
    "nltk.download('stopwords')"
   ]
  },
  {
   "cell_type": "markdown",
   "id": "5a78f4e4",
   "metadata": {
    "papermill": {
     "duration": 0.01027,
     "end_time": "2024-01-06T19:35:47.269579",
     "exception": false,
     "start_time": "2024-01-06T19:35:47.259309",
     "status": "completed"
    },
    "tags": []
   },
   "source": [
    "### Defining two functions:\n",
    "1. `process_tweet`: For preprocessing the tween and removing unnecessary parts.\n",
    "2. `build_freq`: To get the list of all sentences and array of their corresponding sentiment labels and return a dict of this format: `{(word, label): count}`"
   ]
  },
  {
   "cell_type": "code",
   "execution_count": 3,
   "id": "5ce09ed2",
   "metadata": {
    "execution": {
     "iopub.execute_input": "2024-01-06T19:35:47.293180Z",
     "iopub.status.busy": "2024-01-06T19:35:47.292388Z",
     "iopub.status.idle": "2024-01-06T19:35:47.304383Z",
     "shell.execute_reply": "2024-01-06T19:35:47.303283Z"
    },
    "papermill": {
     "duration": 0.027176,
     "end_time": "2024-01-06T19:35:47.307163",
     "exception": false,
     "start_time": "2024-01-06T19:35:47.279987",
     "status": "completed"
    },
    "tags": []
   },
   "outputs": [],
   "source": [
    "def process_tweet(tweet):\n",
    "    \"\"\"Process tweet function.\n",
    "    Input:\n",
    "        tweet: a string containing a tweet\n",
    "    Output:\n",
    "        tweets_clean: a list of words containing the processed tweet\n",
    "\n",
    "    \"\"\"\n",
    "    stemmer = PorterStemmer()\n",
    "    stopwords_english = stopwords.words('english')\n",
    "    \n",
    "    # remove stock market tickers like $GE\n",
    "    tweet = re.sub(r'\\$\\w*', '', tweet)\n",
    "    \n",
    "    # remove old style retweet text \"RT\"\n",
    "    tweet = re.sub(r'^RT[\\s]+', '', tweet)\n",
    "    \n",
    "    # remove hyperlinks\n",
    "    tweet = re.sub(r'https?:\\/\\/.*[\\r\\n]*', '', tweet)\n",
    "    \n",
    "    # remove hashtags\n",
    "    # only removing the hash # sign from the word\n",
    "    tweet = re.sub(r'#', '', tweet)\n",
    "    \n",
    "    # tokenize tweets\n",
    "    tokenizer = TweetTokenizer(preserve_case=False, strip_handles=True, reduce_len=True)\n",
    "    tweet_tokens = tokenizer.tokenize(tweet)\n",
    "\n",
    "    tweets_clean = []\n",
    "    for word in tweet_tokens:\n",
    "        if (word not in stopwords_english and  # remove stopwords\n",
    "                word not in string.punctuation):  # remove punctuation\n",
    "            \n",
    "            # tweets_clean.append(word)\n",
    "            stem_word = stemmer.stem(word)  # stemming word\n",
    "            tweets_clean.append(stem_word)\n",
    "\n",
    "    return tweets_clean\n",
    "\n",
    "\n",
    "def build_freqs(tweets, ys):\n",
    "    \"\"\"Build frequencies.\n",
    "    Input:\n",
    "        tweets: a list of tweets\n",
    "        ys: an m x 1 array with the sentiment label of each tweet\n",
    "            (either 0 or 1)\n",
    "    Output:\n",
    "        freqs: a dictionary mapping each (word, sentiment) pair to its\n",
    "        frequency\n",
    "    \"\"\"\n",
    "    # Convert np array to list since zip needs an iterable.\n",
    "    # The squeeze is necessary or the list ends up with one element.\n",
    "    # Also note that this is just a NOP if ys is already a list.\n",
    "    yslist = np.squeeze(ys).tolist()\n",
    "\n",
    "    # Start with an empty dictionary and populate it by looping over all tweets\n",
    "    # and over all processed words in each tweet.\n",
    "    freqs = {}\n",
    "    for y, tweet in zip(yslist, tweets):\n",
    "        for word in process_tweet(tweet):\n",
    "            pair = (word, y)\n",
    "            if pair in freqs:\n",
    "                freqs[pair] += 1\n",
    "            else:\n",
    "                freqs[pair] = 1\n",
    "\n",
    "    return freqs"
   ]
  },
  {
   "cell_type": "code",
   "execution_count": 4,
   "id": "7a87dc59",
   "metadata": {
    "execution": {
     "iopub.execute_input": "2024-01-06T19:35:47.330193Z",
     "iopub.status.busy": "2024-01-06T19:35:47.329706Z",
     "iopub.status.idle": "2024-01-06T19:35:47.335177Z",
     "shell.execute_reply": "2024-01-06T19:35:47.333927Z"
    },
    "papermill": {
     "duration": 0.020027,
     "end_time": "2024-01-06T19:35:47.337558",
     "exception": false,
     "start_time": "2024-01-06T19:35:47.317531",
     "status": "completed"
    },
    "tags": []
   },
   "outputs": [],
   "source": [
    "filePath = f\"{getcwd()}/../tmp2/\"\n",
    "nltk.data.path.append(filePath)"
   ]
  },
  {
   "cell_type": "code",
   "execution_count": 5,
   "id": "393eb4be",
   "metadata": {
    "execution": {
     "iopub.execute_input": "2024-01-06T19:35:47.360536Z",
     "iopub.status.busy": "2024-01-06T19:35:47.360079Z",
     "iopub.status.idle": "2024-01-06T19:35:48.359735Z",
     "shell.execute_reply": "2024-01-06T19:35:48.358416Z"
    },
    "papermill": {
     "duration": 1.014566,
     "end_time": "2024-01-06T19:35:48.362667",
     "exception": false,
     "start_time": "2024-01-06T19:35:47.348101",
     "status": "completed"
    },
    "tags": []
   },
   "outputs": [],
   "source": [
    "# select the set of positive and negative tweets\n",
    "all_positive_tweets = twitter_samples.strings('positive_tweets.json')\n",
    "all_negative_tweets = twitter_samples.strings('negative_tweets.json')"
   ]
  },
  {
   "cell_type": "markdown",
   "id": "e194fcc7",
   "metadata": {
    "papermill": {
     "duration": 0.010645,
     "end_time": "2024-01-06T19:35:48.384285",
     "exception": false,
     "start_time": "2024-01-06T19:35:48.373640",
     "status": "completed"
    },
    "tags": []
   },
   "source": [
    "### Splitting the data into train and test"
   ]
  },
  {
   "cell_type": "code",
   "execution_count": 6,
   "id": "7d634920",
   "metadata": {
    "execution": {
     "iopub.execute_input": "2024-01-06T19:35:48.406732Z",
     "iopub.status.busy": "2024-01-06T19:35:48.406290Z",
     "iopub.status.idle": "2024-01-06T19:35:48.412721Z",
     "shell.execute_reply": "2024-01-06T19:35:48.411532Z"
    },
    "papermill": {
     "duration": 0.020494,
     "end_time": "2024-01-06T19:35:48.415062",
     "exception": false,
     "start_time": "2024-01-06T19:35:48.394568",
     "status": "completed"
    },
    "tags": []
   },
   "outputs": [],
   "source": [
    "# split the data into two pieces, one for training and one for testing (validation set) \n",
    "test_pos = all_positive_tweets[4000:]\n",
    "train_pos = all_positive_tweets[:4000]\n",
    "test_neg = all_negative_tweets[4000:]\n",
    "train_neg = all_negative_tweets[:4000]\n",
    "\n",
    "train_x = train_pos + train_neg \n",
    "test_x = test_pos + test_neg"
   ]
  },
  {
   "cell_type": "code",
   "execution_count": 7,
   "id": "84549665",
   "metadata": {
    "execution": {
     "iopub.execute_input": "2024-01-06T19:35:48.438057Z",
     "iopub.status.busy": "2024-01-06T19:35:48.437601Z",
     "iopub.status.idle": "2024-01-06T19:35:48.446026Z",
     "shell.execute_reply": "2024-01-06T19:35:48.444712Z"
    },
    "papermill": {
     "duration": 0.022869,
     "end_time": "2024-01-06T19:35:48.448325",
     "exception": false,
     "start_time": "2024-01-06T19:35:48.425456",
     "status": "completed"
    },
    "tags": []
   },
   "outputs": [
    {
     "name": "stdout",
     "output_type": "stream",
     "text": [
      "train_y.shape = (8000, 1)\n",
      "test_y.shape = (2000, 1)\n"
     ]
    }
   ],
   "source": [
    "# combine positive and negative labels\n",
    "train_y = np.append(np.ones((len(train_pos), 1)), np.zeros((len(train_neg), 1)), axis=0)\n",
    "test_y = np.append(np.ones((len(test_pos), 1)), np.zeros((len(test_neg), 1)), axis=0)\n",
    "\n",
    "# Print the shape train and test sets\n",
    "print(\"train_y.shape = \" + str(train_y.shape))\n",
    "print(\"test_y.shape = \" + str(test_y.shape))"
   ]
  },
  {
   "cell_type": "markdown",
   "id": "c7593129",
   "metadata": {
    "papermill": {
     "duration": 0.010169,
     "end_time": "2024-01-06T19:35:48.468876",
     "exception": false,
     "start_time": "2024-01-06T19:35:48.458707",
     "status": "completed"
    },
    "tags": []
   },
   "source": [
    "### Building word frequencies"
   ]
  },
  {
   "cell_type": "code",
   "execution_count": 8,
   "id": "84e7a545",
   "metadata": {
    "execution": {
     "iopub.execute_input": "2024-01-06T19:35:48.491918Z",
     "iopub.status.busy": "2024-01-06T19:35:48.491221Z",
     "iopub.status.idle": "2024-01-06T19:35:53.110591Z",
     "shell.execute_reply": "2024-01-06T19:35:53.109401Z"
    },
    "papermill": {
     "duration": 4.634358,
     "end_time": "2024-01-06T19:35:53.113691",
     "exception": false,
     "start_time": "2024-01-06T19:35:48.479333",
     "status": "completed"
    },
    "tags": []
   },
   "outputs": [
    {
     "name": "stdout",
     "output_type": "stream",
     "text": [
      "type(freqs) = <class 'dict'>\n",
      "len(freqs) = 11346\n"
     ]
    }
   ],
   "source": [
    "# create frequency dictionary\n",
    "freqs = build_freqs(train_x, train_y)\n",
    "\n",
    "# check the output\n",
    "print(\"type(freqs) = \" + str(type(freqs)))\n",
    "print(\"len(freqs) = \" + str(len(freqs.keys())))"
   ]
  },
  {
   "cell_type": "code",
   "execution_count": 9,
   "id": "497dc904",
   "metadata": {
    "execution": {
     "iopub.execute_input": "2024-01-06T19:35:53.137646Z",
     "iopub.status.busy": "2024-01-06T19:35:53.136874Z",
     "iopub.status.idle": "2024-01-06T19:35:53.144708Z",
     "shell.execute_reply": "2024-01-06T19:35:53.143485Z"
    },
    "papermill": {
     "duration": 0.022412,
     "end_time": "2024-01-06T19:35:53.147245",
     "exception": false,
     "start_time": "2024-01-06T19:35:53.124833",
     "status": "completed"
    },
    "tags": []
   },
   "outputs": [
    {
     "name": "stdout",
     "output_type": "stream",
     "text": [
      "This is an example of a positive tweet: \n",
      " #FollowFriday @France_Inte @PKuchly57 @Milipol_Paris for being top engaged members in my community this week :)\n",
      "\n",
      "This is an example of the processed version of the tweet: \n",
      " ['followfriday', 'top', 'engag', 'member', 'commun', 'week', ':)']\n"
     ]
    }
   ],
   "source": [
    "# test the function below\n",
    "print('This is an example of a positive tweet: \\n', train_x[0])\n",
    "print('\\nThis is an example of the processed version of the tweet: \\n', process_tweet(train_x[0]))"
   ]
  },
  {
   "cell_type": "markdown",
   "id": "c7f34497",
   "metadata": {
    "papermill": {
     "duration": 0.010369,
     "end_time": "2024-01-06T19:35:53.168110",
     "exception": false,
     "start_time": "2024-01-06T19:35:53.157741",
     "status": "completed"
    },
    "tags": []
   },
   "source": [
    "### Logistic Regression"
   ]
  },
  {
   "cell_type": "code",
   "execution_count": 10,
   "id": "89889373",
   "metadata": {
    "execution": {
     "iopub.execute_input": "2024-01-06T19:35:53.192093Z",
     "iopub.status.busy": "2024-01-06T19:35:53.191269Z",
     "iopub.status.idle": "2024-01-06T19:35:53.197183Z",
     "shell.execute_reply": "2024-01-06T19:35:53.196399Z"
    },
    "papermill": {
     "duration": 0.020429,
     "end_time": "2024-01-06T19:35:53.199565",
     "exception": false,
     "start_time": "2024-01-06T19:35:53.179136",
     "status": "completed"
    },
    "tags": []
   },
   "outputs": [],
   "source": [
    "def sigmoid(z): \n",
    "    '''\n",
    "    Input:\n",
    "        z: is the input (can be a scalar or an array)\n",
    "    Output:\n",
    "        h: the sigmoid of z\n",
    "    '''\n",
    "    \n",
    "    h = (1/(1 + np.exp(-z)))\n",
    "    \n",
    "    return h"
   ]
  },
  {
   "cell_type": "code",
   "execution_count": 11,
   "id": "607a3aaa",
   "metadata": {
    "execution": {
     "iopub.execute_input": "2024-01-06T19:35:53.223320Z",
     "iopub.status.busy": "2024-01-06T19:35:53.222492Z",
     "iopub.status.idle": "2024-01-06T19:35:53.230280Z",
     "shell.execute_reply": "2024-01-06T19:35:53.228927Z"
    },
    "papermill": {
     "duration": 0.022384,
     "end_time": "2024-01-06T19:35:53.232534",
     "exception": false,
     "start_time": "2024-01-06T19:35:53.210150",
     "status": "completed"
    },
    "tags": []
   },
   "outputs": [
    {
     "name": "stdout",
     "output_type": "stream",
     "text": [
      "SUCCESS!\n",
      "CORRECT!\n"
     ]
    }
   ],
   "source": [
    "# Testing your function \n",
    "if (sigmoid(0) == 0.5):\n",
    "    print('SUCCESS!')\n",
    "else:\n",
    "    print('Oops!')\n",
    "\n",
    "if (sigmoid(4.92) == 0.9927537604041685):\n",
    "    print('CORRECT!')\n",
    "else:\n",
    "    print('Oops again!')"
   ]
  },
  {
   "cell_type": "markdown",
   "id": "1f539520",
   "metadata": {
    "papermill": {
     "duration": 0.010298,
     "end_time": "2024-01-06T19:35:53.253365",
     "exception": false,
     "start_time": "2024-01-06T19:35:53.243067",
     "status": "completed"
    },
    "tags": []
   },
   "source": [
    "### Gradient Descent"
   ]
  },
  {
   "cell_type": "code",
   "execution_count": 12,
   "id": "884e2cce",
   "metadata": {
    "execution": {
     "iopub.execute_input": "2024-01-06T19:35:53.276846Z",
     "iopub.status.busy": "2024-01-06T19:35:53.275865Z",
     "iopub.status.idle": "2024-01-06T19:35:53.284058Z",
     "shell.execute_reply": "2024-01-06T19:35:53.282848Z"
    },
    "papermill": {
     "duration": 0.0227,
     "end_time": "2024-01-06T19:35:53.286606",
     "exception": false,
     "start_time": "2024-01-06T19:35:53.263906",
     "status": "completed"
    },
    "tags": []
   },
   "outputs": [],
   "source": [
    "def gradient_descent(X, y, theta, lr, epochs):\n",
    "    m = y.shape[0]\n",
    "    print(X.shape, theta.shape, y.shape)\n",
    "    for i in range(epochs):\n",
    "        z = np.dot(X, theta)\n",
    "        y_hat = sigmoid(z)\n",
    "        cost = - (1/m) * np.sum(np.dot(y.T, np.log(y_hat) + np.dot((1 - y).T, np.log(1 - y_hat))))\n",
    "        theta = theta - (lr/m) * np.dot(X.T, (y_hat - y))\n",
    "    return theta, float(cost)"
   ]
  },
  {
   "cell_type": "code",
   "execution_count": 13,
   "id": "6a9cd8c0",
   "metadata": {
    "execution": {
     "iopub.execute_input": "2024-01-06T19:35:53.310320Z",
     "iopub.status.busy": "2024-01-06T19:35:53.309858Z",
     "iopub.status.idle": "2024-01-06T19:35:53.358109Z",
     "shell.execute_reply": "2024-01-06T19:35:53.356655Z"
    },
    "papermill": {
     "duration": 0.063385,
     "end_time": "2024-01-06T19:35:53.360698",
     "exception": false,
     "start_time": "2024-01-06T19:35:53.297313",
     "status": "completed"
    },
    "tags": []
   },
   "outputs": [
    {
     "name": "stdout",
     "output_type": "stream",
     "text": [
      "(10, 3) (3, 1) (10, 1)\n",
      "The cost after training is 2.29483927.\n",
      "The resulting vector of weights is [4.1e-07, 0.00035658, 7.309e-05]\n"
     ]
    }
   ],
   "source": [
    "# Check the function\n",
    "# Construct a synthetic test case using numpy PRNG functions\n",
    "np.random.seed(1)\n",
    "# X input is 10 x 3 with ones for the bias terms\n",
    "tmp_X = np.append(np.ones((10, 1)), np.random.rand(10, 2) * 2000, axis=1)\n",
    "# Y Labels are 10 x 1\n",
    "tmp_Y = (np.random.rand(10, 1) > 0.35).astype(float)\n",
    "\n",
    "# Apply gradient descent\n",
    "tmp_theta, tmp_cost = gradient_descent(tmp_X, tmp_Y, np.zeros((3, 1)), 1e-8, 700)\n",
    "print(f\"The cost after training is {tmp_cost:.8f}.\")\n",
    "print(f\"The resulting vector of weights is {[round(t, 8) for t in np.squeeze(tmp_theta)]}\")"
   ]
  },
  {
   "cell_type": "markdown",
   "id": "7b06f6fb",
   "metadata": {
    "papermill": {
     "duration": 0.011006,
     "end_time": "2024-01-06T19:35:53.382899",
     "exception": false,
     "start_time": "2024-01-06T19:35:53.371893",
     "status": "completed"
    },
    "tags": []
   },
   "source": [
    "### Extract tweet freatures"
   ]
  },
  {
   "cell_type": "code",
   "execution_count": 14,
   "id": "5047a3ae",
   "metadata": {
    "execution": {
     "iopub.execute_input": "2024-01-06T19:35:53.406705Z",
     "iopub.status.busy": "2024-01-06T19:35:53.406313Z",
     "iopub.status.idle": "2024-01-06T19:35:53.414020Z",
     "shell.execute_reply": "2024-01-06T19:35:53.412838Z"
    },
    "papermill": {
     "duration": 0.022738,
     "end_time": "2024-01-06T19:35:53.416617",
     "exception": false,
     "start_time": "2024-01-06T19:35:53.393879",
     "status": "completed"
    },
    "tags": []
   },
   "outputs": [],
   "source": [
    "def extract_features(tweet, freqs):\n",
    "    all = process_tweet(tweet)\n",
    "    \n",
    "    x = np.zeros((1, 3))\n",
    "    # bias\n",
    "    x[0, 0] = 1\n",
    "    \n",
    "    # feature 1: positive summation\n",
    "    x[0, 1] = sum([freqs.get((w, 1), 0) for w in all])\n",
    "    \n",
    "    # feature 2: negative summation\n",
    "    x[0, 2] = sum([freqs.get((w, 0), 0) for w in all])\n",
    "    \n",
    "    assert(x.shape == (1, 3))\n",
    "    \n",
    "    return x\n",
    "    "
   ]
  },
  {
   "cell_type": "code",
   "execution_count": 15,
   "id": "05889d86",
   "metadata": {
    "execution": {
     "iopub.execute_input": "2024-01-06T19:35:53.440662Z",
     "iopub.status.busy": "2024-01-06T19:35:53.440266Z",
     "iopub.status.idle": "2024-01-06T19:35:53.448814Z",
     "shell.execute_reply": "2024-01-06T19:35:53.447768Z"
    },
    "papermill": {
     "duration": 0.023253,
     "end_time": "2024-01-06T19:35:53.451093",
     "exception": false,
     "start_time": "2024-01-06T19:35:53.427840",
     "status": "completed"
    },
    "tags": []
   },
   "outputs": [
    {
     "data": {
      "text/plain": [
       "array([[1.00e+00, 3.02e+03, 6.10e+01]])"
      ]
     },
     "execution_count": 15,
     "metadata": {},
     "output_type": "execute_result"
    }
   ],
   "source": [
    "extract_features(train_x[0], freqs)"
   ]
  },
  {
   "cell_type": "markdown",
   "id": "d7b006a2",
   "metadata": {
    "papermill": {
     "duration": 0.010808,
     "end_time": "2024-01-06T19:35:53.472948",
     "exception": false,
     "start_time": "2024-01-06T19:35:53.462140",
     "status": "completed"
    },
    "tags": []
   },
   "source": [
    "### Train the Model"
   ]
  },
  {
   "cell_type": "code",
   "execution_count": 16,
   "id": "52d51bfe",
   "metadata": {
    "execution": {
     "iopub.execute_input": "2024-01-06T19:35:53.497300Z",
     "iopub.status.busy": "2024-01-06T19:35:53.496880Z",
     "iopub.status.idle": "2024-01-06T19:35:59.643860Z",
     "shell.execute_reply": "2024-01-06T19:35:59.642313Z"
    },
    "papermill": {
     "duration": 6.165009,
     "end_time": "2024-01-06T19:35:59.648953",
     "exception": false,
     "start_time": "2024-01-06T19:35:53.483944",
     "status": "completed"
    },
    "tags": []
   },
   "outputs": [
    {
     "name": "stdout",
     "output_type": "stream",
     "text": [
      "(8000, 3) (3, 1) (8000, 1)\n",
      "The cost after training is 345.48699932.\n",
      "The resulting vector of weights is [7e-08, 0.0005239, -0.00055517]\n"
     ]
    }
   ],
   "source": [
    "# collect the features 'x' and stack them into a matrix 'X'\n",
    "X = np.zeros((len(train_x), 3))\n",
    "for i in range(len(train_x)):\n",
    "    X[i, :]= extract_features(train_x[i], freqs)\n",
    "\n",
    "# training labels corresponding to X\n",
    "Y = train_y\n",
    "\n",
    "# Apply gradient descent\n",
    "theta, cost = gradient_descent(X, Y, np.zeros((3, 1)), 1e-9, 1500)\n",
    "print(f\"The cost after training is {cost:.8f}.\")\n",
    "print(f\"The resulting vector of weights is {[round(t, 8) for t in np.squeeze(theta)]}\")"
   ]
  },
  {
   "cell_type": "markdown",
   "id": "dd4d701b",
   "metadata": {
    "papermill": {
     "duration": 0.022672,
     "end_time": "2024-01-06T19:35:59.696146",
     "exception": false,
     "start_time": "2024-01-06T19:35:59.673474",
     "status": "completed"
    },
    "tags": []
   },
   "source": [
    "### Predict on Test "
   ]
  },
  {
   "cell_type": "code",
   "execution_count": 17,
   "id": "3d2d48d1",
   "metadata": {
    "execution": {
     "iopub.execute_input": "2024-01-06T19:35:59.745632Z",
     "iopub.status.busy": "2024-01-06T19:35:59.744922Z",
     "iopub.status.idle": "2024-01-06T19:35:59.757826Z",
     "shell.execute_reply": "2024-01-06T19:35:59.756691Z"
    },
    "papermill": {
     "duration": 0.04115,
     "end_time": "2024-01-06T19:35:59.760584",
     "exception": false,
     "start_time": "2024-01-06T19:35:59.719434",
     "status": "completed"
    },
    "tags": []
   },
   "outputs": [],
   "source": [
    "def predict_tweet(tweet, freqs, theta):\n",
    "    all = process_tweet(tweet)\n",
    "    \n",
    "    x = extract_features(tweet, freqs)\n",
    "    \n",
    "    z = np.dot(x, theta)\n",
    "    y_hat = sigmoid(z)\n",
    "    \n",
    "    return int(y_hat > 0.5)"
   ]
  },
  {
   "cell_type": "code",
   "execution_count": 18,
   "id": "ed4970ed",
   "metadata": {
    "execution": {
     "iopub.execute_input": "2024-01-06T19:35:59.784596Z",
     "iopub.status.busy": "2024-01-06T19:35:59.784182Z",
     "iopub.status.idle": "2024-01-06T19:35:59.807231Z",
     "shell.execute_reply": "2024-01-06T19:35:59.806062Z"
    },
    "papermill": {
     "duration": 0.038057,
     "end_time": "2024-01-06T19:35:59.809846",
     "exception": false,
     "start_time": "2024-01-06T19:35:59.771789",
     "status": "completed"
    },
    "tags": []
   },
   "outputs": [
    {
     "name": "stdout",
     "output_type": "stream",
     "text": [
      "@Garfyville In Bath? :) Even we don’t have wheelie bins, nowhere to put them @paulmutton\n",
      "Predicted: 1 | True: 1.0\n",
      "\n",
      "I'm so frustrated with my planks. The times are super inconsistent, and I have no idea what I'm doing wrong. :(\n",
      "Predicted: 0 | True: 0.0\n",
      "\n",
      "@Glanny_ @soL_Lyah @_wattie I told him to suicide and kill both of you, but you ran away forever :(\n",
      "Predicted: 0 | True: 0.0\n",
      "\n",
      "why won't justin come to Scotland :(\n",
      "Predicted: 0 | True: 0.0\n",
      "\n",
      "I've run out of bread and I don't feel well enough to make any. :(\n",
      "Predicted: 0 | True: 0.0\n",
      "\n",
      "I miss those convo's so bad damn :(\n",
      "Predicted: 0 | True: 0.0\n",
      "\n",
      "@deano042 @RealKrisTravis WHAT :(\n",
      "Predicted: 0 | True: 0.0\n",
      "\n",
      "@anime_narutoINA thank you min :)\n",
      "Predicted: 1 | True: 1.0\n",
      "\n",
      "@namcew make use of the masquerade mask!!!! Lol #zorroreturms :-)\n",
      "Predicted: 1 | True: 1.0\n",
      "\n",
      "@KylieDeVille Happy Birthday!! Enjoy your vacation!:)\n",
      "Predicted: 1 | True: 1.0\n",
      "\n"
     ]
    }
   ],
   "source": [
    "random_idx = np.random.randint(0, len(test_x), size=10)\n",
    "for j in random_idx:\n",
    "    print(test_x[j])\n",
    "    pred = predict_tweet(test_x[j], freqs, theta)\n",
    "    print(f\"Predicted: {pred} | True: {test_y[j][0]}\\n\")"
   ]
  },
  {
   "cell_type": "markdown",
   "id": "f17d9cad",
   "metadata": {
    "papermill": {
     "duration": 0.011141,
     "end_time": "2024-01-06T19:35:59.832654",
     "exception": false,
     "start_time": "2024-01-06T19:35:59.821513",
     "status": "completed"
    },
    "tags": []
   },
   "source": [
    "### Evaluation"
   ]
  },
  {
   "cell_type": "code",
   "execution_count": 19,
   "id": "f00f19ff",
   "metadata": {
    "execution": {
     "iopub.execute_input": "2024-01-06T19:35:59.858814Z",
     "iopub.status.busy": "2024-01-06T19:35:59.858429Z",
     "iopub.status.idle": "2024-01-06T19:36:01.104503Z",
     "shell.execute_reply": "2024-01-06T19:36:01.103507Z"
    },
    "papermill": {
     "duration": 1.261735,
     "end_time": "2024-01-06T19:36:01.107199",
     "exception": false,
     "start_time": "2024-01-06T19:35:59.845464",
     "status": "completed"
    },
    "tags": []
   },
   "outputs": [],
   "source": [
    "X_test = np.zeros((len(test_x), 3))\n",
    "for i in range(len(test_x)):\n",
    "    X_test[i, :]= extract_features(test_x[i], freqs)"
   ]
  },
  {
   "cell_type": "code",
   "execution_count": 20,
   "id": "540a7709",
   "metadata": {
    "execution": {
     "iopub.execute_input": "2024-01-06T19:36:01.132674Z",
     "iopub.status.busy": "2024-01-06T19:36:01.131502Z",
     "iopub.status.idle": "2024-01-06T19:36:01.136648Z",
     "shell.execute_reply": "2024-01-06T19:36:01.135841Z"
    },
    "papermill": {
     "duration": 0.020221,
     "end_time": "2024-01-06T19:36:01.138944",
     "exception": false,
     "start_time": "2024-01-06T19:36:01.118723",
     "status": "completed"
    },
    "tags": []
   },
   "outputs": [],
   "source": [
    "def model(X, theta):\n",
    "    z = np.dot(X, theta)\n",
    "    y_hat = sigmoid(z)\n",
    "    \n",
    "    return y_hat"
   ]
  },
  {
   "cell_type": "code",
   "execution_count": 21,
   "id": "e9829b3d",
   "metadata": {
    "execution": {
     "iopub.execute_input": "2024-01-06T19:36:01.164391Z",
     "iopub.status.busy": "2024-01-06T19:36:01.163106Z",
     "iopub.status.idle": "2024-01-06T19:36:01.170236Z",
     "shell.execute_reply": "2024-01-06T19:36:01.169080Z"
    },
    "papermill": {
     "duration": 0.022302,
     "end_time": "2024-01-06T19:36:01.172848",
     "exception": false,
     "start_time": "2024-01-06T19:36:01.150546",
     "status": "completed"
    },
    "tags": []
   },
   "outputs": [
    {
     "name": "stdout",
     "output_type": "stream",
     "text": [
      "Test Accuracy: 0.995\n"
     ]
    }
   ],
   "source": [
    "y_pred_proba = model(X_test, theta)\n",
    "y_pred = (y_pred_proba > 0.5)\n",
    "\n",
    "print(f\"Test Accuracy: {(y_pred == test_y).mean()}\")"
   ]
  },
  {
   "cell_type": "markdown",
   "id": "d2f0e2d2",
   "metadata": {
    "papermill": {
     "duration": 0.077308,
     "end_time": "2024-01-06T19:36:01.262022",
     "exception": false,
     "start_time": "2024-01-06T19:36:01.184714",
     "status": "completed"
    },
    "tags": []
   },
   "source": [
    "### My Example"
   ]
  },
  {
   "cell_type": "code",
   "execution_count": 22,
   "id": "fea4a092",
   "metadata": {
    "execution": {
     "iopub.execute_input": "2024-01-06T19:36:01.287175Z",
     "iopub.status.busy": "2024-01-06T19:36:01.286709Z",
     "iopub.status.idle": "2024-01-06T19:36:01.295562Z",
     "shell.execute_reply": "2024-01-06T19:36:01.294658Z"
    },
    "papermill": {
     "duration": 0.024162,
     "end_time": "2024-01-06T19:36:01.297875",
     "exception": false,
     "start_time": "2024-01-06T19:36:01.273713",
     "status": "completed"
    },
    "tags": []
   },
   "outputs": [
    {
     "data": {
      "text/plain": [
       "1"
      ]
     },
     "execution_count": 22,
     "metadata": {},
     "output_type": "execute_result"
    }
   ],
   "source": [
    "predict_tweet(\"@saeid I think today was good for me, beause I've earned 100$.\", freqs, theta)"
   ]
  }
 ],
 "metadata": {
  "kaggle": {
   "accelerator": "none",
   "dataSources": [],
   "dockerImageVersionId": 30626,
   "isGpuEnabled": false,
   "isInternetEnabled": true,
   "language": "python",
   "sourceType": "notebook"
  },
  "kernelspec": {
   "display_name": "Python 3",
   "language": "python",
   "name": "python3"
  },
  "language_info": {
   "codemirror_mode": {
    "name": "ipython",
    "version": 3
   },
   "file_extension": ".py",
   "mimetype": "text/x-python",
   "name": "python",
   "nbconvert_exporter": "python",
   "pygments_lexer": "ipython3",
   "version": "3.10.12"
  },
  "papermill": {
   "default_parameters": {},
   "duration": 20.897735,
   "end_time": "2024-01-06T19:36:02.033151",
   "environment_variables": {},
   "exception": null,
   "input_path": "__notebook__.ipynb",
   "output_path": "__notebook__.ipynb",
   "parameters": {},
   "start_time": "2024-01-06T19:35:41.135416",
   "version": "2.4.0"
  }
 },
 "nbformat": 4,
 "nbformat_minor": 5
}
